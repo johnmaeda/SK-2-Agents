{
 "cells": [
  {
   "cell_type": "markdown",
   "metadata": {},
   "source": [
    "# 💬🌽 Semantic Kernel Agents "
   ]
  },
  {
   "cell_type": "markdown",
   "metadata": {},
   "source": [
    "## 📦 Get the right packages together"
   ]
  },
  {
   "cell_type": "code",
   "execution_count": 4,
   "metadata": {
    "dotnet_interactive": {
     "language": "csharp"
    },
    "polyglot_notebook": {
     "kernelName": "csharp"
    },
    "vscode": {
     "languageId": "polyglot-notebook"
    }
   },
   "outputs": [
    {
     "data": {
      "text/html": [
       "<div><div></div><div></div><div><strong>Installed Packages</strong><ul><li><span>Microsoft.SemanticKernel, 1.18.1-rc</span></li><li><span>Microsoft.SemanticKernel.Agents.Core, 1.18.1-alpha</span></li><li><span>Microsoft.SemanticKernel.Agents.OpenAI, 1.18.1-alpha</span></li><li><span>Microsoft.SemanticKernel.Plugins.Core, 1.18.1-alpha</span></li></ul></div></div>"
      ]
     },
     "metadata": {},
     "output_type": "display_data"
    }
   ],
   "source": [
    "#r \"nuget: Microsoft.SemanticKernel, 1.18.1-alpha\"\n",
    "#r \"nuget: Microsoft.SemanticKernel.Plugins.Core, 1.18.1-alpha\"\n",
    "#r \"nuget: Microsoft.SemanticKernel.Agents.Core, 1.18.1-alpha\"\n",
    "#r \"nuget: Microsoft.SemanticKernel.Agents.OpenAI, 1.18.1-alpha\""
   ]
  },
  {
   "cell_type": "code",
   "execution_count": 5,
   "metadata": {
    "dotnet_interactive": {
     "language": "csharp"
    },
    "polyglot_notebook": {
     "kernelName": "csharp"
    },
    "vscode": {
     "languageId": "polyglot-notebook"
    }
   },
   "outputs": [],
   "source": [
    "#!import config/Settings.cs\n",
    "#!import config/Utils.cs\n",
    "\n",
    "using Microsoft.SemanticKernel;\n",
    "using Microsoft.SemanticKernel.ChatCompletion;\n",
    "using Microsoft.SemanticKernel.Connectors.OpenAI;\n",
    "using Microsoft.SemanticKernel.Plugins.Core;\n",
    "using Microsoft.SemanticKernel.Agents;\n",
    "using Microsoft.SemanticKernel.Agents.Chat;\n",
    "using Microsoft.SemanticKernel.Agents.OpenAI;\n",
    "using Microsoft.Extensions.Logging;\n",
    "using System.ComponentModel;\n",
    "using System.Net.Http;\n",
    "using System.Net.Http.Headers;\n",
    "using Microsoft.Extensions.DependencyInjection;\n",
    "using System.Threading;\n",
    "\n",
    "// Load settings\n",
    "var (useAzureOpenAI, model, azureEndpoint, apiKey, orgId) = Settings.LoadFromFile();"
   ]
  },
  {
   "cell_type": "markdown",
   "metadata": {},
   "source": [
    "## 🔌 Create a Semantic Kernel plugin"
   ]
  },
  {
   "cell_type": "code",
   "execution_count": 6,
   "metadata": {
    "dotnet_interactive": {
     "language": "csharp"
    },
    "polyglot_notebook": {
     "kernelName": "csharp"
    },
    "vscode": {
     "languageId": "polyglot-notebook"
    }
   },
   "outputs": [],
   "source": [
    "public class TimePlugin\n",
    "{\n",
    "    [KernelFunction]\n",
    "    [Description(\"Retrieves the current time in UTC.\")]\n",
    "    public string GetCurrentUtcTime() => DateTime.UtcNow.ToString(\"R\");\n",
    "}"
   ]
  },
  {
   "cell_type": "markdown",
   "metadata": {},
   "source": [
    "## 🤖 Create a chat completion agent"
   ]
  },
  {
   "cell_type": "code",
   "execution_count": 7,
   "metadata": {
    "dotnet_interactive": {
     "language": "csharp"
    },
    "polyglot_notebook": {
     "kernelName": "csharp"
    },
    "vscode": {
     "languageId": "polyglot-notebook"
    }
   },
   "outputs": [
    {
     "name": "stdout",
     "output_type": "stream",
     "text": [
      "User > Hello\n",
      "Assistant > Hello! How can I assist you today?\n"
     ]
    }
   ],
   "source": [
    "#pragma warning disable SKEXP0001\n",
    "\n",
    "// Create the kernel\n",
    "IKernelBuilder builder = Microsoft.SemanticKernel.Kernel.CreateBuilder();\n",
    "builder.AddOpenAIChatCompletion(\n",
    "    \"gpt-4o\",\n",
    "    apiKey);\n",
    "// builder.Plugins.AddFromType<TimePlugin>();\n",
    "Microsoft.SemanticKernel.Kernel kernel = builder.Build();\n",
    "\n",
    "#pragma warning disable SKEXP0110\n",
    "// Create the agent\n",
    "ChatCompletionAgent agent =\n",
    "    new()\n",
    "    {\n",
    "        Name = \"TimeAgent\",\n",
    "        Instructions = \"You can tell the time to the user\",\n",
    "        Kernel = kernel,\n",
    "    };\n",
    "\n",
    "// Start the chat\n",
    "ChatHistory chat = [];\n",
    "while (true)\n",
    "{\n",
    "    // Get the user input\n",
    "    string input = await InteractiveKernel.GetInputAsync(\"Your message\");\n",
    "    if (input == \"bye\")\n",
    "    {\n",
    "        break;\n",
    "    }\n",
    "    chat.Add(new ChatMessageContent(AuthorRole.User, input));\n",
    "    Console.WriteLine(\"User > \" + input);\n",
    "\n",
    "    // Get the assistant response\n",
    "    await foreach (ChatMessageContent message in agent.InvokeAsync(chat))\n",
    "    {\n",
    "        chat.Add(message);\n",
    "        Console.WriteLine(\"Assistant > \" + message);\n",
    "    }\n",
    "}"
   ]
  },
  {
   "cell_type": "markdown",
   "metadata": {},
   "source": [
    "## 🤖 Create an assistant agent"
   ]
  },
  {
   "cell_type": "code",
   "execution_count": 9,
   "metadata": {
    "dotnet_interactive": {
     "language": "csharp"
    },
    "polyglot_notebook": {
     "kernelName": "csharp"
    },
    "vscode": {
     "languageId": "polyglot-notebook"
    }
   },
   "outputs": [
    {
     "name": "stdout",
     "output_type": "stream",
     "text": [
      "User > Hello\n",
      "Assistant > Hello! How can I assist you today?\n"
     ]
    }
   ],
   "source": [
    "// Create the kernel\n",
    "IKernelBuilder builder = Microsoft.SemanticKernel.Kernel.CreateBuilder();\n",
    "//builder.Plugins.AddFromType<TimePlugin>();\n",
    "Microsoft.SemanticKernel.Kernel assistantKernel = builder.Build();\n",
    "\n",
    "#pragma warning disable SKEXP0110\n",
    "// Create the agent\n",
    "OpenAIAssistantAgent agent =\n",
    "    await OpenAIAssistantAgent.CreateAsync(\n",
    "        kernel: assistantKernel,\n",
    "        OpenAIClientProvider.ForOpenAI(apiKey),\n",
    "        new(\"gpt-4-turbo\")\n",
    "        {\n",
    "            Name = \"<agent name>\",\n",
    "            Instructions = \"<agent instructions>\",\n",
    "            EnableCodeInterpreter = true,\n",
    "        });\n",
    "\n",
    "// Start the chat\n",
    "string threadId = await agent.CreateThreadAsync();\n",
    "while (true)\n",
    "{\n",
    "    // Get the user input\n",
    "    string input = await InteractiveKernel.GetInputAsync(\"Your message\");\n",
    "    if (input == \"bye\")\n",
    "    {\n",
    "        break;\n",
    "    }\n",
    "    await agent.AddChatMessageAsync(threadId, new ChatMessageContent(AuthorRole.User, input));\n",
    "    Console.WriteLine(\"User > \" + input);\n",
    "\n",
    "    // Get the assistant response\n",
    "    await foreach (ChatMessageContent message in agent.InvokeAsync(threadId))\n",
    "    {\n",
    "        Console.WriteLine(\"Assistant > \" + message);\n",
    "    }\n",
    "}"
   ]
  },
  {
   "cell_type": "markdown",
   "metadata": {},
   "source": [
    "## 💬 Using assistants in a group chat"
   ]
  },
  {
   "cell_type": "code",
   "execution_count": 11,
   "metadata": {
    "dotnet_interactive": {
     "language": "csharp"
    },
    "polyglot_notebook": {
     "kernelName": "csharp"
    },
    "vscode": {
     "languageId": "polyglot-notebook"
    }
   },
   "outputs": [
    {
     "name": "stdout",
     "output_type": "stream",
     "text": [
      "# user: 'concept: a way for multiple AI agents to collaborate on a single task'\n",
      "# Assistant - CopyWriter: '\"Many minds, one mission.\"'\n",
      "# Assistant - ArtDirector: 'Approved. This copy is succinct and conveys the collaborative essence effectively.'\n",
      "# IS COMPLETE: True\n"
     ]
    }
   ],
   "source": [
    "#pragma warning disable SKEXP0110\n",
    "#pragma warning disable SKEXP0001\n",
    "\n",
    "// Define the agents\n",
    "ChatCompletionAgent agentReviewer =\n",
    "    new()\n",
    "    {\n",
    "        Instructions = \"\"\"\n",
    "            You are an art director who has opinions about copywriting born of a love for David Ogilvy.\n",
    "            The goal is to determine if the given copy is acceptable to print.\n",
    "            If so, state that it is approved.\n",
    "            If not, provide insight on how to refine suggested copy without example.\n",
    "            \"\"\",\n",
    "        Name = \"ArtDirector\",\n",
    "        Kernel = kernel,\n",
    "    };\n",
    "\n",
    "ChatCompletionAgent agentWriter =\n",
    "    new()\n",
    "    {\n",
    "        Instructions = \"\"\"\n",
    "            You are a copywriter with ten years of experience and are known for brevity and a dry humor.\n",
    "            The goal is to refine and decide on the single best copy as an expert in the field.\n",
    "            Only provide a single proposal per response.\n",
    "            You're laser focused on the goal at hand.\n",
    "            Don't waste time with chit chat.\n",
    "            Consider suggestions when refining an idea.\n",
    "            \"\"\",\n",
    "        Name = \"CopyWriter\",\n",
    "        Kernel = kernel,\n",
    "    };\n",
    "\n",
    "// Define a termination strategy for the chat\n",
    "class ApprovalTerminationStrategy : TerminationStrategy\n",
    "{\n",
    "    // Terminate when the final message contains the term \"approve\"\n",
    "    protected override Task<bool> ShouldAgentTerminateAsync(Agent agent, IReadOnlyList<ChatMessageContent> history, CancellationToken cancellationToken)\n",
    "        => Task.FromResult(history[history.Count - 1].Content?.Contains(\"approve\", StringComparison.OrdinalIgnoreCase) ?? false);\n",
    "}\n",
    "\n",
    "// Create a chat for agent interaction\n",
    "AgentGroupChat chat =\n",
    "    new(agentWriter, agentReviewer)\n",
    "    {\n",
    "        ExecutionSettings =\n",
    "            new()\n",
    "            {\n",
    "                // Here a TerminationStrategy subclass is used that will terminate when\n",
    "                // an assistant message contains the term \"approve\".\n",
    "                TerminationStrategy =\n",
    "                    new ApprovalTerminationStrategy()\n",
    "                    {\n",
    "                        // Only the art-director may approve.\n",
    "                        Agents = [agentReviewer],\n",
    "                        // Limit total number of turns\n",
    "                        MaximumIterations = 10,\n",
    "                    }\n",
    "            }\n",
    "    };\n",
    "\n",
    "// Invoke chat and display messages\n",
    "string input = \"concept: a way for multiple AI agents to collaborate on a single task\";\n",
    "chat.AddChatMessage(new ChatMessageContent(AuthorRole.User, input));\n",
    "Console.WriteLine($\"# {AuthorRole.User}: '{input}'\");\n",
    "\n",
    "await foreach (ChatMessageContent content in chat.InvokeAsync())\n",
    "{\n",
    "    Console.WriteLine($\"# {content.Role} - {content.AuthorName ?? \"*\"}: '{content.Content}'\");\n",
    "}\n",
    "\n",
    "Console.WriteLine($\"# IS COMPLETE: {chat.IsComplete}\");"
   ]
  }
 ],
 "metadata": {
  "kernelspec": {
   "display_name": ".NET (C#)",
   "language": "C#",
   "name": ".net-csharp"
  },
  "language_info": {
   "name": "python",
   "version": "3.11.6"
  },
  "polyglot_notebook": {
   "kernelInfo": {
    "defaultKernelName": "csharp",
    "items": [
     {
      "aliases": [],
      "name": "csharp"
     }
    ]
   }
  }
 },
 "nbformat": 4,
 "nbformat_minor": 2
}
