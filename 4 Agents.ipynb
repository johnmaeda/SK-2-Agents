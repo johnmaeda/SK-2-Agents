{
 "cells": [
  {
   "cell_type": "markdown",
   "metadata": {},
   "source": [
    "# 💬🌽 Semantic Kernel Agents V1 Time Capsule\n",
    "\n",
    "This is going to change in Semantic Kernel 1.10, but it's been swimming around in my head since SK 1.0 to better understand. It walks through how to: 1/ give the agent an SK Plugin, 2/ use the OAI Assistants retrieval option with files, and 3/ use the code interpreter to create a PowerPoint presentation file."
   ]
  },
  {
   "cell_type": "code",
   "execution_count": null,
   "metadata": {
    "vscode": {
     "languageId": "polyglot-notebook"
    }
   },
   "outputs": [],
   "source": []
  },
  {
   "cell_type": "markdown",
   "metadata": {},
   "source": [
    "## 📦 Get the right packages together"
   ]
  },
  {
   "cell_type": "code",
   "execution_count": null,
   "metadata": {
    "dotnet_interactive": {
     "language": "csharp"
    },
    "polyglot_notebook": {
     "kernelName": "csharp"
    },
    "vscode": {
     "languageId": "polyglot-notebook"
    }
   },
   "outputs": [],
   "source": [
    "#r \"nuget: Microsoft.SemanticKernel, 1.9\"\n",
    "#r \"nuget: Microsoft.SemanticKernel.Plugins.Core, 1.9-alpha\"\n",
    "#r \"nuget: Microsoft.SemanticKernel.Experimental.Agents, 1.9-alpha\""
   ]
  },
  {
   "cell_type": "markdown",
   "metadata": {},
   "source": [
    "## 🔥 Fire up a 🌽 kernel and 🥸 agentbuilder"
   ]
  },
  {
   "cell_type": "code",
   "execution_count": null,
   "metadata": {
    "dotnet_interactive": {
     "language": "csharp"
    },
    "polyglot_notebook": {
     "kernelName": "csharp"
    },
    "vscode": {
     "languageId": "polyglot-notebook"
    }
   },
   "outputs": [],
   "source": [
    "#!import config/Settings.cs\n",
    "#!import config/Utils.cs\n",
    "\n",
    "using Microsoft.SemanticKernel;\n",
    "using Microsoft.SemanticKernel.Connectors.OpenAI;\n",
    "using Microsoft.SemanticKernel.Plugins.Core;\n",
    "using Microsoft.SemanticKernel.Experimental.Agents;\n",
    "using Microsoft.Extensions.Logging;\n",
    "using System.ComponentModel;\n",
    "using System.Net.Http;\n",
    "using System.Net.Http.Headers;\n",
    "\n",
    "#pragma warning disable SKEXP0010, SKEXP0101, CS0103\n",
    "\n",
    "using Kernel = Microsoft.SemanticKernel.Kernel;\n",
    "\n",
    "Kernel kernel;\n",
    "static List<IAgent> _agents = [];\n",
    "static string[] _fileIds = [];\n",
    "    \n",
    "var (useAzureOpenAI, model, azureEndpoint, apiKey, orgId) = Settings.LoadFromFile();\n",
    "\n",
    "model = \"gpt-4-turbo\";\n",
    "\n",
    "kernel = !useAzureOpenAI ?\n",
    "    Kernel.CreateBuilder()\n",
    "        .AddOpenAIChatCompletion(model, apiKey, orgId)\n",
    "        .AddOpenAIFiles(apiKey)\n",
    "        .Build() :\n",
    "    Kernel.CreateBuilder()\n",
    "        .AddAzureOpenAIChatCompletion(model, azureEndpoint, apiKey)\n",
    "        .AddAzureOpenAIFiles(azureEndpoint, apiKey)\n",
    "        .Build();\n",
    "\n",
    "public AgentBuilder CreateAgentBuilder()\n",
    "{\n",
    "    var builder = new AgentBuilder();\n",
    "\n",
    "    return\n",
    "        !useAzureOpenAI ?\n",
    "            builder.WithOpenAIChatCompletion(model, apiKey) :\n",
    "            builder.WithAzureOpenAIChatCompletion(model, azureEndpoint, apiKey);\n",
    "}\n",
    "\n",
    "public static IAgent Track(IAgent agent)\n",
    "{\n",
    "    _agents.Add(agent);\n",
    "\n",
    "    return agent;\n",
    "}\n",
    "\n",
    "public static IAgent GetAgent(string name)\n",
    "{\n",
    "    return _agents.FirstOrDefault(a => a.Name == name);\n",
    "}\n",
    "\n",
    "public async Task<string> UploadAgentsRelatedFile(string filename)\n",
    "{\n",
    "    FileStream fileStream = new FileStream(filename, FileMode.Open);\n",
    "    var fileService = kernel.GetRequiredService<OpenAIFileService>();\n",
    "\n",
    "    var result =\n",
    "        await fileService.UploadContentAsync(\n",
    "            new BinaryContent(() => Task.FromResult((Stream)fileStream)),\n",
    "            new OpenAIFileUploadExecutionSettings(filename, OpenAIFilePurpose.Assistants));   \n",
    "    _fileIds = _fileIds.Append(result.Id).ToArray();\n",
    "    return result.Id;\n",
    "}\n",
    "\n",
    "public async Task CleanupAgents()\n",
    "{\n",
    "    var fileService = kernel.GetRequiredService<OpenAIFileService>();\n",
    "    await Task.WhenAll(_agents.Select(a => a.DeleteAsync()));\n",
    "    await Task.WhenAll(_fileIds.Select(fileId => fileService.DeleteFileAsync(fileId)));\n",
    "\n",
    "    _agents = new List<IAgent>();\n",
    "    _fileIds = new string[] {};\n",
    "}"
   ]
  },
  {
   "cell_type": "markdown",
   "metadata": {},
   "source": [
    "## 🪚 Build a simple agent 👮 router"
   ]
  },
  {
   "cell_type": "code",
   "execution_count": null,
   "metadata": {
    "dotnet_interactive": {
     "language": "csharp"
    },
    "polyglot_notebook": {
     "kernelName": "csharp"
    },
    "vscode": {
     "languageId": "polyglot-notebook"
    }
   },
   "outputs": [],
   "source": [
    "#pragma warning disable SKEXP0010, SKEXP0101, CS0103\n",
    "\n",
    "public static string InfoAboutAgents()\n",
    "{\n",
    "    var agentsInfo = _agents.Select(a => $\"Name '{a.Name}': Description: {a.Description}\\n\").ToList();\n",
    "    agentsInfo.Insert(0, \"Assistants available with their names and descriptions:\\n\");\n",
    "    return agentsInfo.Aggregate((a, b) => a + b);\n",
    "}\n",
    "\n",
    "public async Task<string> GetAgentForQuestion(string question)\n",
    "{\n",
    "    var aboutAgents = InfoAboutAgents();\n",
    "    var result = await kernel.InvokePromptAsync($\"{aboutAgents}\\nGive just the assistant's name that can answer the question: '{question}''. If you don't know the answer, respond 'Unknown.'\");\n",
    "    return result.ToString();\n",
    "}"
   ]
  },
  {
   "cell_type": "markdown",
   "metadata": {},
   "source": [
    "## 🔌 Plugins can be handed over to any of your agents"
   ]
  },
  {
   "cell_type": "code",
   "execution_count": null,
   "metadata": {
    "dotnet_interactive": {
     "language": "csharp"
    },
    "polyglot_notebook": {
     "kernelName": "csharp"
    },
    "vscode": {
     "languageId": "polyglot-notebook"
    }
   },
   "outputs": [],
   "source": [
    "public class TimeInformationPlugin\n",
    "{\n",
    "    [KernelFunction]\n",
    "    [Description(\"Retrieves the current time in UTC.\")]\n",
    "    public string GetCurrentUtcTime() => DateTime.UtcNow.ToString(\"R\");\n",
    "}\n",
    "\n",
    "var timePlugin = KernelPluginFactory.CreateFromType<TimeInformationPlugin>();\n"
   ]
  },
  {
   "cell_type": "markdown",
   "metadata": {},
   "source": [
    "## 🐣 Hatch a few 🥸 agents and provide 📁 files for grounding"
   ]
  },
  {
   "cell_type": "code",
   "execution_count": null,
   "metadata": {
    "dotnet_interactive": {
     "language": "csharp"
    },
    "polyglot_notebook": {
     "kernelName": "csharp"
    },
    "vscode": {
     "languageId": "polyglot-notebook"
    }
   },
   "outputs": [],
   "source": [
    "#pragma warning disable SKEXP0010, SKEXP0101, CS0103\n",
    "\n",
    "var fileId = await UploadAgentsRelatedFile(\"travelinfo.txt\");\n",
    "\n",
    "var retrievalAgent = Track(await CreateAgentBuilder()\n",
    "    .WithName(\"Retrieval\")\n",
    "    .WithDescription(\"Really good at finding information about people\")\n",
    "    .WithInstructions(\"Respond succinctly with the information requested.\")\n",
    "    .WithRetrieval()\n",
    "    .BuildAsync());\n",
    "\n",
    "await retrievalAgent.AddFileAsync(fileId);\n",
    "\n",
    "var timeAgent = Track(await CreateAgentBuilder()\n",
    "    .WithName(\"Timeman\")\n",
    "    .WithDescription(\"Knows what time it is\")\n",
    "    .WithInstructions(\"Respond succinctly with the information requested.\")\n",
    "    .WithPlugin(timePlugin)\n",
    "    .BuildAsync());\n",
    "\n",
    "async Task InvokeAgentAsync(IAgent agent, string question)\n",
    "{\n",
    "    await foreach (var message in agent.InvokeAsync(question, null, _fileIds))\n",
    "    {\n",
    "        string content = message.Content;\n",
    "        foreach (var annotation in message.Annotations)\n",
    "        {\n",
    "            content = content.Replace(annotation.Label, string.Empty, StringComparison.Ordinal);\n",
    "        }\n",
    "\n",
    "        Console.WriteLine($\"# {message.Role}: {content}\");\n",
    "\n",
    "        if (message.Annotations.Count > 0)\n",
    "        {\n",
    "            var fileService = kernel.GetRequiredService<OpenAIFileService>();\n",
    "            Console.WriteLine(\"\\nAnnotation related files:\");\n",
    "            foreach (var annotation in message.Annotations)\n",
    "            {\n",
    "                Console.WriteLine($\"* {annotation.FileId}\");\n",
    "            }\n",
    "        }\n",
    "    }\n",
    "    Console.WriteLine();\n",
    "}"
   ]
  },
  {
   "cell_type": "markdown",
   "metadata": {},
   "source": [
    "## 🧪 Test the agent 👮 router to see if it works"
   ]
  },
  {
   "cell_type": "code",
   "execution_count": null,
   "metadata": {
    "dotnet_interactive": {
     "language": "csharp"
    },
    "polyglot_notebook": {
     "kernelName": "csharp"
    },
    "vscode": {
     "languageId": "polyglot-notebook"
    }
   },
   "outputs": [],
   "source": [
    "var name = await GetAgentForQuestion(\"What time is it?\");\n",
    "Console.WriteLine($\"Agent name: {name}\");"
   ]
  },
  {
   "cell_type": "markdown",
   "metadata": {},
   "source": [
    "I don't use this code but I thought it's useful to show you how you can get the agents to talk with each other based upon their different expertise. You just ask for the agent that can resolve a specific issue and route the issue accordingly."
   ]
  },
  {
   "cell_type": "markdown",
   "metadata": {},
   "source": [
    "## 💬 Chat with the 🥸 agent of your choice "
   ]
  },
  {
   "cell_type": "markdown",
   "metadata": {},
   "source": [
    "When you run the code below, the notebook is asking a question at the very to of the screen. 👆 Look up at the top of your VS Code window!\n",
    "\n",
    "![](assets/lookup.png)"
   ]
  },
  {
   "cell_type": "markdown",
   "metadata": {},
   "source": [
    "Get it? When you run the code below you need to 👆 go to the top of this window to enter your input. I always forget that ...\n",
    "\n",
    "> ⚠️ _Be sure to clean up your agent work by going to the cell just below this one_"
   ]
  },
  {
   "cell_type": "code",
   "execution_count": null,
   "metadata": {
    "dotnet_interactive": {
     "language": "csharp"
    },
    "polyglot_notebook": {
     "kernelName": "csharp"
    },
    "vscode": {
     "languageId": "polyglot-notebook"
    }
   },
   "outputs": [],
   "source": [
    "#pragma warning disable SKEXP0010, SKEXP0101, CS0103\n",
    "\n",
    "try\n",
    "{\n",
    "    // sit in a loop and talk to the agent and when you enter /bye then exit\n",
    "    var myq = await InteractiveKernel.GetInputAsync(\"Your turn: \");\n",
    "\n",
    "    while (myq != \"/bye\")\n",
    "    {\n",
    "        await InvokeAgentAsync(retrievalAgent, myq);\n",
    "        myq = await InteractiveKernel.GetInputAsync(\"Your turn: \");\n",
    "    }\n",
    "}\n",
    "finally\n",
    "{\n",
    "    Console.WriteLine(\"⚠️ Completed. Be sure to clean up your agents.\");\n",
    "}"
   ]
  },
  {
   "cell_type": "markdown",
   "metadata": {},
   "source": [
    "## 🧽 Clean up your 🥸 agents and any 📁 files you uploaded"
   ]
  },
  {
   "cell_type": "markdown",
   "metadata": {},
   "source": [
    "Various items will stay inside your account unless you consciously purge them. Otherwise you'll have to manually delete them 🙀 ..."
   ]
  },
  {
   "cell_type": "code",
   "execution_count": null,
   "metadata": {
    "dotnet_interactive": {
     "language": "csharp"
    },
    "polyglot_notebook": {
     "kernelName": "csharp"
    },
    "vscode": {
     "languageId": "polyglot-notebook"
    }
   },
   "outputs": [],
   "source": [
    "#pragma warning disable SKEXP0010, SKEXP0101, CS0103\n",
    "// print the current time in the current timezone\n",
    "Console.WriteLine($\"Current time: {DateTime.Now}\");\n",
    "\n",
    "Console.WriteLine(\"🧽 Cleaning up...\");\n",
    "await CleanupAgents();\n",
    "Console.WriteLine(\"👋 Done. Bye!\");"
   ]
  },
  {
   "cell_type": "markdown",
   "metadata": {},
   "source": [
    "## ⛰️ Advanced: Let the agent run 🐍 Python code to write a file"
   ]
  },
  {
   "cell_type": "code",
   "execution_count": null,
   "metadata": {
    "vscode": {
     "languageId": "polyglot-notebook"
    }
   },
   "outputs": [],
   "source": [
    "#pragma warning disable SKEXP0010, SKEXP0101, CS0103\n",
    "\n",
    "var fileId = await UploadAgentsRelatedFile(\"travelinfo.txt\");\n",
    "\n",
    "var codeInterpreterPlusRetrievalAgent = Track(await CreateAgentBuilder()\n",
    "    .WithName(\"Crafter\")\n",
    "    .WithDescription(\"Really good at crafting code, finding info about people, and creating powerpoints.\")\n",
    "    .WithInstructions(\"Write only code to solve the given problem without comment.\")\n",
    "    .WithRetrieval()\n",
    "    .WithCodeInterpreter()\n",
    "    .BuildAsync());\n",
    "\n",
    "await codeInterpreterPlusRetrievalAgent.AddFileAsync(fileId);\n",
    "\n",
    "async Task InvokeAgentAsyncSaveToFile(IAgent agent, string question, string? outputFileName = null)\n",
    "{\n",
    "    await foreach (var message in agent.InvokeAsync(question, null, _fileIds))\n",
    "    {\n",
    "        string content = message.Content;\n",
    "        foreach (var annotation in message.Annotations)\n",
    "        {\n",
    "            content = content.Replace(annotation.Label, string.Empty, StringComparison.Ordinal);\n",
    "        }\n",
    "\n",
    "        Console.WriteLine($\"# {message.Role}: {content}\");\n",
    "\n",
    "        if (message.Annotations.Count > 0)\n",
    "        {\n",
    "            var fileService = kernel.GetRequiredService<OpenAIFileService>();\n",
    "            Console.WriteLine(\"\\nAnnotation related files:\");\n",
    "            foreach (var annotation in message.Annotations)\n",
    "            {\n",
    "                Console.WriteLine($\"* {annotation.FileId}\");\n",
    "                if (outputFileName != null) {\n",
    "                    // Download file if given a name\n",
    "                    // Note that if there are multiple files then this will not work the way you want\n",
    "                    using (var httpClient = new HttpClient())\n",
    "                    {\n",
    "                        httpClient.DefaultRequestHeaders.Authorization = new AuthenticationHeaderValue(\"Bearer\", apiKey);\n",
    "                        var response = await httpClient.GetAsync($\"https://api.openai.com/v1/files/{annotation.FileId}/content\");\n",
    "                        var fileContent = await response.Content.ReadAsByteArrayAsync();\n",
    "\n",
    "                        // Write file to local directory\n",
    "                        Console.WriteLine($\"Writing file to {outputFileName}\");\n",
    "                        await File.WriteAllBytesAsync(outputFileName, fileContent);\n",
    "                        Console.WriteLine(\"File written.\");\n",
    "                    }\n",
    "                }          \n",
    "            }\n",
    "        }\n",
    "    }\n",
    "    Console.WriteLine();\n",
    "}"
   ]
  },
  {
   "cell_type": "markdown",
   "metadata": {},
   "source": [
    "## 🚵 Run the 🥸 agent with 🧑‍💻 code interpreter\n",
    "\n",
    "This took me about 50 seconds to complete. So be a little patient while crossing your fingers ..."
   ]
  },
  {
   "cell_type": "code",
   "execution_count": null,
   "metadata": {
    "vscode": {
     "languageId": "polyglot-notebook"
    }
   },
   "outputs": [],
   "source": [
    "await InvokeAgentAsyncSaveToFile(\n",
    "    codeInterpreterPlusRetrievalAgent, \n",
    "    \"Create a powerpoint file that documents Sam's travel plans.\", \n",
    "    \"sam.pptx\");\n",
    "Console.WriteLine(\"👋 Done. Bye!\");"
   ]
  },
  {
   "cell_type": "markdown",
   "metadata": {},
   "source": [
    "## 🧽 Clean up your 🥸 agents and any 📁 files you uploaded\n",
    "\n",
    "This is missing the file you created ... I'll let you figure out how to do that ;-)."
   ]
  },
  {
   "cell_type": "code",
   "execution_count": null,
   "metadata": {
    "vscode": {
     "languageId": "polyglot-notebook"
    }
   },
   "outputs": [],
   "source": [
    "#pragma warning disable SKEXP0010, SKEXP0101, CS0103\n",
    "// print the current time in the current timezone\n",
    "Console.WriteLine($\"Current time: {DateTime.Now}\");\n",
    "\n",
    "Console.WriteLine(\"🧽 Cleaning up...\");\n",
    "await CleanupAgents();\n",
    "Console.WriteLine(\"👋 Done. Bye!\");"
   ]
  }
 ],
 "metadata": {
  "language_info": {
   "name": "python"
  }
 },
 "nbformat": 4,
 "nbformat_minor": 2
}
