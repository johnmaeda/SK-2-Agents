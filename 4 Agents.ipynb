{
 "cells": [
  {
   "cell_type": "markdown",
   "metadata": {},
   "source": [
    "# 💬🌽 Semantic Kernel Agents V1 Time Capsule\n",
    "\n",
    "This is going to change in Semantic Kernel 1.10, but it's been swimming around in my head since SK 1.0 to better understand. It walks through how to: 1/ give the agent an SK Plugin, 2/ use the OAI Assistants retrieval option with files, and 3/ use the code interpreter to create a PowerPoint presentation file."
   ]
  },
  {
   "cell_type": "markdown",
   "metadata": {},
   "source": [
    "## 📦 Get the right packages together"
   ]
  },
  {
   "cell_type": "code",
   "execution_count": 1,
   "metadata": {
    "dotnet_interactive": {
     "language": "csharp"
    },
    "polyglot_notebook": {
     "kernelName": "csharp"
    },
    "vscode": {
     "languageId": "polyglot-notebook"
    }
   },
   "outputs": [
    {
     "data": {
      "text/html": [
       "<div><div></div><div></div><div><strong>Installed Packages</strong><ul><li><span>Microsoft.SemanticKernel, 1.10.0</span></li><li><span>Microsoft.SemanticKernel.Agents.Core, 1.10.0-alpha</span></li><li><span>Microsoft.SemanticKernel.Agents.OpenAI, 1.10.0-alpha</span></li><li><span>Microsoft.SemanticKernel.Plugins.Core, 1.10.0-alpha</span></li></ul></div></div>"
      ]
     },
     "metadata": {},
     "output_type": "display_data"
    }
   ],
   "source": [
    "#r \"nuget: Microsoft.SemanticKernel, 1.10.0\"\n",
    "#r \"nuget: Microsoft.SemanticKernel.Plugins.Core, 1.10.0-alpha\"\n",
    "#r \"nuget: Microsoft.SemanticKernel.Agents.Core, 1.10.0-alpha\"\n",
    "#r \"nuget: Microsoft.SemanticKernel.Agents.OpenAI, 1.10.0-alpha\""
   ]
  },
  {
   "cell_type": "markdown",
   "metadata": {},
   "source": [
    "## Create some helper functions to keep track of resources"
   ]
  },
  {
   "cell_type": "code",
   "execution_count": 2,
   "metadata": {
    "dotnet_interactive": {
     "language": "csharp"
    },
    "polyglot_notebook": {
     "kernelName": "csharp"
    },
    "vscode": {
     "languageId": "polyglot-notebook"
    }
   },
   "outputs": [],
   "source": [
    "#!import config/Settings.cs\n",
    "#!import config/Utils.cs\n",
    "\n",
    "using Microsoft.SemanticKernel;\n",
    "using Microsoft.SemanticKernel.ChatCompletion;\n",
    "using Microsoft.SemanticKernel.Connectors.OpenAI;\n",
    "using Microsoft.SemanticKernel.Plugins.Core;\n",
    "using Microsoft.SemanticKernel.Agents;\n",
    "using Microsoft.SemanticKernel.Agents.Chat;\n",
    "using Microsoft.SemanticKernel.Agents.OpenAI;\n",
    "using Microsoft.Extensions.Logging;\n",
    "using System.ComponentModel;\n",
    "using System.Net.Http;\n",
    "using System.Net.Http.Headers;\n",
    "using Microsoft.Extensions.DependencyInjection;\n",
    "\n",
    "#pragma warning disable SKEXP0010, SKEXP0101, CS0103, SKEXP0110\n",
    "\n",
    "using Kernel = Microsoft.SemanticKernel.Kernel;\n",
    "\n",
    "// Kernel kernel;\n",
    "static List<OpenAIAssistantAgent> _agents = [];\n",
    "static string[] _fileIds = [];\n",
    "\n",
    "// This sample must use OpenAI Assistants (not Azure OpenAI) because it uses the retrieval tool\n",
    "var (useAzureOpenAI, model, azureEndpoint, apiKey, orgId) = Settings.LoadFromFile();\n",
    "\n",
    "model = \"gpt-4-turbo\";\n",
    "\n",
    "ServiceProvider serviceProvider = new ServiceCollection()\n",
    "    .AddOpenAIChatCompletion(model, apiKey)\n",
    "    .BuildServiceProvider();\n",
    "\n",
    "public static OpenAIAssistantAgent Track(OpenAIAssistantAgent agent)\n",
    "{\n",
    "    _agents.Add(agent);\n",
    "\n",
    "    return agent;\n",
    "}\n",
    "\n",
    "public async Task<string> UploadAgentsRelatedFile(string filename)\n",
    "{\n",
    "    FileStream fileStream = new FileStream(filename, FileMode.Open);\n",
    "\n",
    "    OpenAIFileService fileService = new(apiKey);\n",
    "\n",
    "    OpenAIFileReference uploadFile =\n",
    "        await fileService.UploadContentAsync(\n",
    "            new BinaryContent(() => Task.FromResult((Stream)fileStream)),\n",
    "            new OpenAIFileUploadExecutionSettings(filename, OpenAIFilePurpose.Assistants));  \n",
    "\n",
    "    _fileIds = _fileIds.Append(uploadFile.Id).ToArray();\n",
    "    return uploadFile.Id;\n",
    "}\n",
    "\n",
    "public async Task CleanupAgents()\n",
    "{\n",
    "\n",
    "    OpenAIFileService fileService = new(apiKey);\n",
    "\n",
    "    await Task.WhenAll(_agents.Select(a => a.DeleteAsync()));\n",
    "    await Task.WhenAll(_fileIds.Select(fileId => fileService.DeleteFileAsync(fileId)));\n",
    "\n",
    "    _agents = new List<OpenAIAssistantAgent>();\n",
    "    _fileIds = new string[] {};\n",
    "}"
   ]
  },
  {
   "cell_type": "markdown",
   "metadata": {},
   "source": [
    "## 🔌 Plugins can be handed over to any of your agents"
   ]
  },
  {
   "cell_type": "code",
   "execution_count": 3,
   "metadata": {
    "dotnet_interactive": {
     "language": "csharp"
    },
    "polyglot_notebook": {
     "kernelName": "csharp"
    },
    "vscode": {
     "languageId": "polyglot-notebook"
    }
   },
   "outputs": [],
   "source": [
    "public class TimeInformationPlugin\n",
    "{\n",
    "    [KernelFunction]\n",
    "    [Description(\"Retrieves the current time in UTC.\")]\n",
    "    public string GetCurrentUtcTime() => DateTime.UtcNow.ToString(\"R\");\n",
    "}\n",
    "\n",
    "var timePlugin = KernelPluginFactory.CreateFromType<TimeInformationPlugin>();\n"
   ]
  },
  {
   "cell_type": "markdown",
   "metadata": {},
   "source": [
    "## 🐣 Hatch a few 🥸 agents and provide 📁 files and 🔌 plugins for grounding"
   ]
  },
  {
   "cell_type": "code",
   "execution_count": 4,
   "metadata": {
    "dotnet_interactive": {
     "language": "csharp"
    },
    "polyglot_notebook": {
     "kernelName": "csharp"
    },
    "vscode": {
     "languageId": "polyglot-notebook"
    }
   },
   "outputs": [],
   "source": [
    "#pragma warning disable SKEXP0010, SKEXP0101, CS0103, SKEXP0110\n",
    "\n",
    "var fileId = await UploadAgentsRelatedFile(\"travelinfo.txt\");\n",
    "\n",
    "// You can create an OpenAI Assisstant with the retrieval tool enabled so it can find information in the uploaded file\n",
    "OpenAIAssistantAgent retrievalAgent =\n",
    "    await OpenAIAssistantAgent.CreateAsync(\n",
    "        kernel: new(),\n",
    "        config: new(apiKey),\n",
    "        new()\n",
    "        {\n",
    "            Name = \"Retrieval\",\n",
    "            Description = \"Really good at finding travel information about people using travel docs\",\n",
    "            Instructions = \"Respond succinctly with the information requested.\",\n",
    "            EnableRetrieval = true, // Enable retrieval\n",
    "            ModelId = model,\n",
    "            FileIds = [fileId] // Associate uploaded file\n",
    "        });\n",
    "Track(retrievalAgent);\n",
    "\n",
    "ChatCompletionAgent timeAgent =\n",
    "    new()\n",
    "    {\n",
    "        Instructions = \"Respond succinctly with the information requested.\",\n",
    "        Name = \"Timeman\",\n",
    "        Description = \"Knows what time it is\",\n",
    "        Kernel = new(\n",
    "            serviceProvider,\n",
    "            new ([timePlugin])\n",
    "        ),\n",
    "        ExecutionSettings = new OpenAIPromptExecutionSettings() { ToolCallBehavior = ToolCallBehavior.AutoInvokeKernelFunctions },\n",
    "    };\n",
    "\n",
    "\n",
    "async Task InvokeAgentAsync(AgentGroupChat agentChat, KernelAgent? agent)\n",
    "{\n",
    "    var messages = agent == null ? agentChat.InvokeAsync() : agentChat.InvokeAsync(agent);\n",
    "\n",
    "    await foreach (var message in messages)\n",
    "    {\n",
    "        string content = message.Content;\n",
    "        List<AnnotationContent> annotations = message.Items.OfType<AnnotationContent>().ToList();\n",
    "\n",
    "        Console.WriteLine($\"# {message.Role}: {content}\");\n",
    "\n",
    "        if (annotations.Count > 0)\n",
    "        {\n",
    "            OpenAIFileService fileService = new(apiKey);\n",
    "            Console.WriteLine(\"\\nAnnotation related files:\");\n",
    "            foreach (var annotation in annotations)\n",
    "            {\n",
    "                Console.WriteLine($\"* {annotation.FileId}\");\n",
    "            }\n",
    "        }\n",
    "    }\n",
    "    Console.WriteLine();\n",
    "}"
   ]
  },
  {
   "cell_type": "markdown",
   "metadata": {},
   "source": [
    "## 💬 Chat with the 🥸 agent of your choice "
   ]
  },
  {
   "cell_type": "markdown",
   "metadata": {},
   "source": [
    "When you run the code below, the notebook is asking a question at the very to of the screen. 👆 Look up at the top of your VS Code window!\n",
    "\n",
    "![](assets/lookup.png)"
   ]
  },
  {
   "cell_type": "markdown",
   "metadata": {},
   "source": [
    "Get it? When you run the code below you need to 👆 go to the top of this window to enter your input. I always forget that ...\n",
    "\n",
    "> ⚠️ _Be sure to clean up your agent work by going to the cell just below this one_"
   ]
  },
  {
   "cell_type": "code",
   "execution_count": 5,
   "metadata": {
    "dotnet_interactive": {
     "language": "csharp"
    },
    "polyglot_notebook": {
     "kernelName": "csharp"
    },
    "vscode": {
     "languageId": "polyglot-notebook"
    }
   },
   "outputs": [
    {
     "name": "stdout",
     "output_type": "stream",
     "text": [
      "\n",
      "# assistant: Sam's flight is scheduled to depart on Monday, 11 September 2023 at 10:05 AM from Seattle (SEA) to Durham (RDU) on flight AS 572 with Alaska Airlines.\n",
      "\n",
      "# assistant: Goodbye! If you have any more questions in the future, feel free to ask. Have a great day!\n",
      "\n",
      "⚠️ Completed. Be sure to clean up your agents.\n"
     ]
    }
   ],
   "source": [
    "#pragma warning disable SKEXP0010, SKEXP0101, CS0103, SKEXP0110\n",
    "\n",
    "// Create a chat with the agents\n",
    "AgentGroupChat chat = new(timeAgent, retrievalAgent);\n",
    "\n",
    "try\n",
    "{\n",
    "    // sit in a loop and talk to the agent and when you enter /bye then exit\n",
    "    string myq;\n",
    "\n",
    "    do\n",
    "    {\n",
    "        myq = await InteractiveKernel.GetInputAsync(\"Your turn: \");\n",
    "\n",
    "        // Add the user's message to the chat\n",
    "        chat.AddChatMessage(new ChatMessageContent(AuthorRole.User, myq));\n",
    "\n",
    "        // In this chat we will always talk to the retrieval agent\n",
    "        await InvokeAgentAsync(chat, retrievalAgent);\n",
    "    } while (myq != \"/bye\");\n",
    "}\n",
    "finally\n",
    "{\n",
    "    Console.WriteLine(\"⚠️ Completed. Be sure to clean up your agents.\");\n",
    "}"
   ]
  },
  {
   "cell_type": "markdown",
   "metadata": {},
   "source": [
    "## 🪚 Build a simple agent 👮 router"
   ]
  },
  {
   "cell_type": "code",
   "execution_count": 6,
   "metadata": {
    "vscode": {
     "languageId": "polyglot-notebook"
    }
   },
   "outputs": [],
   "source": [
    "#pragma warning disable SKEXP0010, SKEXP0101, CS0103, SKEXP0110\n",
    "\n",
    "KernelFunction selectionFunction =\n",
    "    KernelFunctionFactory.CreateFromPrompt(\n",
    "        $$$\"\"\"\n",
    "        Provide _just_ the assistant's name that can answer the very last message from the user in the following chat:\n",
    "        \n",
    "        {{$history}}\n",
    "\n",
    "        Choose only from these assistants:\n",
    "        - Name: {{{retrievalAgent.Name}}}\n",
    "          Description: {{{retrievalAgent.Description}}}\n",
    "        - Name: {{{timeAgent.Name}}}\n",
    "          Description: {{{timeAgent.Description}}}\n",
    "\n",
    "        If you don't know, respond with {{{retrievalAgent.Name}}}\n",
    "        \"\"\");"
   ]
  },
  {
   "cell_type": "markdown",
   "metadata": {},
   "source": [
    "## 🧪 Test the agent 👮 router to see if it works"
   ]
  },
  {
   "cell_type": "code",
   "execution_count": 10,
   "metadata": {
    "vscode": {
     "languageId": "polyglot-notebook"
    }
   },
   "outputs": [
    {
     "name": "stdout",
     "output_type": "stream",
     "text": [
      "# assistant: Hello! How can I assist you today?\n",
      "\n",
      "Selected agent: Timeman\n",
      "# assistant: The current UTC time is 22:50 (10:50 PM). How else can I help you today?\n",
      "\n",
      "Selected agent: Retrieval\n",
      "# assistant: Sam's flight is scheduled for Monday, 11th September 2023, departing from Seattle (SEA) at 10:05 AM and arriving at Durham (RDU) at 6:15 PM. The flight is AS 572 operated by Alaska Airlines.\n",
      "\n",
      "Selected agent: Retrieval\n",
      "# assistant: Today is the 18th of September 2023. Sam's flight was on the 11th of September 2023, which means it was 7 days ago.\n",
      "\n",
      "Selected agent: Retrieval\n",
      "# assistant: Goodbye! If you need any more help in the future, feel free to ask. Have a great day!\n",
      "\n",
      "⚠️ Completed. Be sure to clean up your agents.\n"
     ]
    }
   ],
   "source": [
    "#pragma warning disable SKEXP0010, SKEXP0101, CS0103, SKEXP0110\n",
    "\n",
    "AgentGroupChat routingChat =\n",
    "    new(timeAgent, retrievalAgent)\n",
    "    {\n",
    "        ExecutionSettings =\n",
    "            new()\n",
    "            {\n",
    "                // Here a KernelFunctionSelectionStrategy selects agents based on a prompt function.\n",
    "                SelectionStrategy =\n",
    "                    new KernelFunctionSelectionStrategy(selectionFunction, new(serviceProvider))\n",
    "                    {\n",
    "                        // Returns the entire result value as a string.\n",
    "                        ResultParser = (result) => {\n",
    "                            Console.WriteLine($\"Selected agent: {result.GetValue<string>()}\");\n",
    "                            return result.GetValue<string>() ?? timeAgent.Name;\n",
    "                        },\n",
    "                        // The prompt variable name for the history argument.\n",
    "                        HistoryVariableName = \"history\",\n",
    "                    },\n",
    "            }\n",
    "    };\n",
    "\n",
    "try\n",
    "{\n",
    "    // sit in a loop and talk to the agent and when you enter /bye then exit\n",
    "    string myq;\n",
    "\n",
    "    do {\n",
    "        myq = await InteractiveKernel.GetInputAsync(\"Your turn: \");\n",
    "        \n",
    "        // Add the user's message to the chat\n",
    "        routingChat.AddChatMessage(new ChatMessageContent(AuthorRole.User, myq));\n",
    "\n",
    "        await InvokeAgentAsync(routingChat, null);\n",
    "    } while (myq != \"/bye\");\n",
    "}\n",
    "finally\n",
    "{\n",
    "    Console.WriteLine(\"⚠️ Completed. Be sure to clean up your agents.\");\n",
    "}"
   ]
  },
  {
   "cell_type": "markdown",
   "metadata": {},
   "source": [
    "## 🧽 Clean up your 🥸 agents and any 📁 files you uploaded"
   ]
  },
  {
   "cell_type": "markdown",
   "metadata": {},
   "source": [
    "Various items will stay inside your account unless you consciously purge them. Otherwise you'll have to manually delete them 🙀 ..."
   ]
  },
  {
   "cell_type": "code",
   "execution_count": null,
   "metadata": {
    "dotnet_interactive": {
     "language": "csharp"
    },
    "polyglot_notebook": {
     "kernelName": "csharp"
    },
    "vscode": {
     "languageId": "polyglot-notebook"
    }
   },
   "outputs": [],
   "source": [
    "#pragma warning disable SKEXP0010, SKEXP0101, CS0103\n",
    "// print the current time in the current timezone\n",
    "Console.WriteLine($\"Current time: {DateTime.Now}\");\n",
    "\n",
    "Console.WriteLine(\"🧽 Cleaning up...\");\n",
    "await CleanupAgents();\n",
    "Console.WriteLine(\"👋 Done. Bye!\");"
   ]
  },
  {
   "cell_type": "markdown",
   "metadata": {},
   "source": [
    "## ⛰️ Advanced: Let the agent run 🐍 Python code to write a file"
   ]
  },
  {
   "cell_type": "code",
   "execution_count": 11,
   "metadata": {
    "dotnet_interactive": {
     "language": "csharp"
    },
    "polyglot_notebook": {
     "kernelName": "csharp"
    },
    "vscode": {
     "languageId": "polyglot-notebook"
    }
   },
   "outputs": [],
   "source": [
    "#pragma warning disable SKEXP0010, SKEXP0101, CS0103, SKEXP0110\n",
    "\n",
    "var fileId = await UploadAgentsRelatedFile(\"travelinfo.txt\");\n",
    "\n",
    "// Define the agent\n",
    "OpenAIAssistantAgent codeInterpreterPlusRetrievalAgent =\n",
    "    await OpenAIAssistantAgent.CreateAsync(\n",
    "        kernel: new(),\n",
    "        config: new(apiKey),\n",
    "        new()\n",
    "        {\n",
    "            Name = \"Crafter\",\n",
    "            Description = \"Really good at crafting code, finding info about people, and creating powerpoints.\",\n",
    "            Instructions = \"Write only code to solve the given problem without comment.\",\n",
    "            EnableCodeInterpreter = true, // Enable code-interpreter\n",
    "            EnableRetrieval = true, // Enable retrieval\n",
    "            ModelId = model,\n",
    "            FileIds = [fileId] // Associate uploaded file\n",
    "        });\n",
    "Track(codeInterpreterPlusRetrievalAgent);\n",
    "\n",
    "\n",
    "// Create a chat with the agents\n",
    "AgentGroupChat codeInterpreterChat = new(codeInterpreterPlusRetrievalAgent);\n",
    "\n",
    "async Task InvokeAgentAsyncSaveToFile(string question, string? outputFileName = null)\n",
    "{\n",
    "    codeInterpreterChat.AddChatMessage(new ChatMessageContent(AuthorRole.User, question));\n",
    "\n",
    "    await foreach (var message in codeInterpreterChat.InvokeAsync(codeInterpreterPlusRetrievalAgent))\n",
    "    {\n",
    "        string content = message.Content;\n",
    "        List<AnnotationContent> annotations = message.Items.OfType<AnnotationContent>().ToList();\n",
    "\n",
    "        Console.WriteLine($\"# {message.Role}: {content}\");\n",
    "\n",
    "        if (annotations.Count > 0)\n",
    "        {\n",
    "            OpenAIFileService fileService = new(apiKey);\n",
    "\n",
    "            Console.WriteLine(\"\\nAnnotation related files:\");\n",
    "            foreach (var annotation in annotations)\n",
    "            {\n",
    "                Console.WriteLine($\"* {annotation.FileId}\");\n",
    "                if (outputFileName != null) {\n",
    "                    // Download file if given a name\n",
    "                    // Note that if there are multiple files then this will not work the way you want\n",
    "                    using (var httpClient = new HttpClient())\n",
    "                    {\n",
    "                        httpClient.DefaultRequestHeaders.Authorization = new AuthenticationHeaderValue(\"Bearer\", apiKey);\n",
    "                        var response = await httpClient.GetAsync($\"https://api.openai.com/v1/files/{annotation.FileId}/content\");\n",
    "                        var fileContent = await response.Content.ReadAsByteArrayAsync();\n",
    "\n",
    "                        // Write file to local directory\n",
    "                        Console.WriteLine($\"Writing file to {outputFileName}\");\n",
    "                        await File.WriteAllBytesAsync(outputFileName, fileContent);\n",
    "                        Console.WriteLine(\"File written.\");\n",
    "                    }\n",
    "                }          \n",
    "            }\n",
    "        }\n",
    "    }\n",
    "    Console.WriteLine();\n",
    "}"
   ]
  },
  {
   "cell_type": "markdown",
   "metadata": {},
   "source": [
    "## 🚵 Run the 🥸 agent with 🧑‍💻 code interpreter\n",
    "\n",
    "This took me about 50 seconds to complete. So be a little patient while crossing your fingers ..."
   ]
  },
  {
   "cell_type": "code",
   "execution_count": null,
   "metadata": {
    "dotnet_interactive": {
     "language": "csharp"
    },
    "polyglot_notebook": {
     "kernelName": "csharp"
    },
    "vscode": {
     "languageId": "polyglot-notebook"
    }
   },
   "outputs": [],
   "source": [
    "await InvokeAgentAsyncSaveToFile(\n",
    "    \"Create a powerpoint file that documents Sam's travel plans.\", \n",
    "    \"sam.pptx\");\n",
    "Console.WriteLine(\"👋 Done. Bye!\");"
   ]
  },
  {
   "cell_type": "markdown",
   "metadata": {},
   "source": [
    "## 🧽 Clean up your 🥸 agents and any 📁 files you uploaded\n",
    "\n",
    "This is missing the file you created ... I'll let you figure out how to do that ;-)."
   ]
  },
  {
   "cell_type": "code",
   "execution_count": null,
   "metadata": {
    "dotnet_interactive": {
     "language": "csharp"
    },
    "polyglot_notebook": {
     "kernelName": "csharp"
    },
    "vscode": {
     "languageId": "polyglot-notebook"
    }
   },
   "outputs": [],
   "source": [
    "#pragma warning disable SKEXP0010, SKEXP0101, CS0103\n",
    "// print the current time in the current timezone\n",
    "Console.WriteLine($\"Current time: {DateTime.Now}\");\n",
    "\n",
    "Console.WriteLine(\"🧽 Cleaning up...\");\n",
    "await CleanupAgents();\n",
    "Console.WriteLine(\"👋 Done. Bye!\");"
   ]
  }
 ],
 "metadata": {
  "language_info": {
   "name": "python"
  }
 },
 "nbformat": 4,
 "nbformat_minor": 2
}
